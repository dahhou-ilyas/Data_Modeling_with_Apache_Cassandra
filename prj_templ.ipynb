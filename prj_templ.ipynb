{
 "cells": [
  {
   "cell_type": "code",
   "id": "initial_id",
   "metadata": {
    "collapsed": true,
    "ExecuteTime": {
     "end_time": "2024-10-01T15:51:24.039034Z",
     "start_time": "2024-10-01T15:51:23.685174Z"
    }
   },
   "source": [
    "import pandas as pd\n",
    "\n",
    "import numpy as np\n",
    "\n",
    "import cassandra\n",
    "\n",
    "import re\n",
    "\n",
    "import os\n",
    "\n",
    "import glob\n",
    "\n",
    "import json\n",
    "\n",
    "import csv"
   ],
   "outputs": [],
   "execution_count": 1
  },
  {
   "metadata": {
    "ExecuteTime": {
     "end_time": "2024-10-01T16:05:58.789457Z",
     "start_time": "2024-10-01T16:05:58.786330Z"
    }
   },
   "cell_type": "code",
   "source": [
    "\n",
    "filepath = os.getcwd() + '/event_data'\n",
    "\n",
    "for root , dirs, files in os.walk(filepath):\n",
    "    file_path_list = glob.glob(os.path.join(root, '*'))"
   ],
   "id": "72c682cff143f8fb",
   "outputs": [
    {
     "name": "stdout",
     "output_type": "stream",
     "text": [
      "/Users/ilyasdahhou/PycharmProjects/Data_Modeling_with_Apache_Cassandra/event_data\n",
      "-------------\n"
     ]
    }
   ],
   "execution_count": 7
  },
  {
   "metadata": {
    "ExecuteTime": {
     "end_time": "2024-10-01T16:32:06.124594Z",
     "start_time": "2024-10-01T16:32:06.059688Z"
    }
   },
   "cell_type": "code",
   "source": [
    "full_data_rows_list = []\n",
    "\n",
    "for f in file_path_list:\n",
    "    with open(f, 'r',encoding='utf8', newline='') as csvfile:\n",
    "        csvreader= csv.reader(csvfile)\n",
    "        for line in csvreader:\n",
    "            full_data_rows_list.append(line)\n",
    "            \n",
    "print(f\"Total rows : {len(full_data_rows_list)}\")\n",
    "print(f\"Sample data:\\n {full_data_rows_list[:5]}\")\n",
    "\n",
    "csv.register_dialect(\"Dialecte\",quoting=csv.QUOTE_ALL,skipinitialspace=True)\n",
    "\n",
    "with open('event_datafile_new.csv','w',encoding='utf8', newline='') as f:\n",
    "    writer= csv.writer(f,dialect='Dialecte')\n",
    "    writer.writerow(['artist','firstName','gender','itemInSession','lastName','length',\\\n",
    "                'level','location','sessionId','song','userId'])\n",
    "    for row in full_data_rows_list:\n",
    "        if (row[0] == ''):\n",
    "            continue\n",
    "        writer.writerow((row[0], row[2], row[3], row[4], row[5], row[6], row[7], row[8], row[12], row[13], row[16]))\n",
    "    "
   ],
   "id": "a4f2298f5abeada0",
   "outputs": [
    {
     "name": "stdout",
     "output_type": "stream",
     "text": [
      "Total rows : 8086\n",
      "Sample data:\n",
      " [['artist', 'auth', 'firstName', 'gender', 'itemInSession', 'lastName', 'length', 'level', 'location', 'method', 'page', 'registration', 'sessionId', 'song', 'status', 'ts', 'userId'], ['Harmonia', 'Logged In', 'Ryan', 'M', '0', 'Smith', '655.77751', 'free', 'San Jose-Sunnyvale-Santa Clara, CA', 'PUT', 'NextSong', '1.54102E+12', '583', 'Sehr kosmisch', '200', '1.54224E+12', '26'], ['The Prodigy', 'Logged In', 'Ryan', 'M', '1', 'Smith', '260.07465', 'free', 'San Jose-Sunnyvale-Santa Clara, CA', 'PUT', 'NextSong', '1.54102E+12', '583', 'The Big Gundown', '200', '1.54224E+12', '26'], ['Train', 'Logged In', 'Ryan', 'M', '2', 'Smith', '205.45261', 'free', 'San Jose-Sunnyvale-Santa Clara, CA', 'PUT', 'NextSong', '1.54102E+12', '583', 'Marry Me', '200', '1.54224E+12', '26'], ['', 'Logged In', 'Wyatt', 'M', '0', 'Scott', '', 'free', 'Eureka-Arcata-Fortuna, CA', 'GET', 'Home', '1.54087E+12', '563', '', '200', '1.54225E+12', '9']]\n"
     ]
    }
   ],
   "execution_count": 17
  }
 ],
 "metadata": {
  "kernelspec": {
   "display_name": "Python 3",
   "language": "python",
   "name": "python3"
  },
  "language_info": {
   "codemirror_mode": {
    "name": "ipython",
    "version": 2
   },
   "file_extension": ".py",
   "mimetype": "text/x-python",
   "name": "python",
   "nbconvert_exporter": "python",
   "pygments_lexer": "ipython2",
   "version": "2.7.6"
  }
 },
 "nbformat": 4,
 "nbformat_minor": 5
}
